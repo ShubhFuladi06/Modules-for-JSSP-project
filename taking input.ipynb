{
 "cells": [
  {
   "cell_type": "code",
   "execution_count": 3,
   "id": "66acca67",
   "metadata": {},
   "outputs": [],
   "source": [
    "def taking_input():\n",
    "    import numpy as np\n",
    "    from termcolor import colored\n",
    "    job = int(input(colored(\"enter the number of job\\n\",\"green\", attrs=['bold'])))\n",
    "    machines =int(input(colored(\"enter the number of machines\\n\",\"green\", attrs=['bold'])))\n",
    "    machine_sequence=[]\n",
    "    for i in range(job):\n",
    "            msg1 =\"enter the sequence of machines for Job {} \\t\".format(i+1)\n",
    "            inputstr1 = input(msg1)\n",
    "            input_list1 = inputstr1.split()\n",
    "            if len(input_list1) == machines:\n",
    "                for i in range(len(input_list1)):\n",
    "                    # convert each item to int type\n",
    "                    input_list1[i] = int(input_list1[i])\n",
    "                machine_sequence.append(input_list1)                                               \n",
    "            else:\n",
    "                print(colored(\"warning: you enter wrong input \\n enter {} number of machines id\".format(machines),\"red\", attrs=['bold']))\n",
    "\n",
    "    machine_sequence = np.array(machine_sequence)\n",
    "    print(machine_sequence)\n",
    "\n",
    "    processing_time=[]\n",
    "    for i in range(job):\n",
    "            msg2 =\"enter the processing time for Job {} \\t\".format(i+1)\n",
    "            inputstr2 = input(msg2)\n",
    "            input_list2 = inputstr2.split()\n",
    "            if len(input_list2) == machines:\n",
    "                for i in range(len(input_list2)):\n",
    "                    # convert each item to int type\n",
    "                    input_list2[i] = int(input_list2[i])\n",
    "                processing_time.append(input_list2)\n",
    "            else:\n",
    "                print(colored(\"warning: you enter wrong input \\n enter processing time for {} machines\".format(machines),\"red\", attrs=['bold']))\n",
    "\n",
    "                \n",
    "    processing_time = np.array(processing_time)\n",
    "    print(processing_time)\n",
    "    "
   ]
  },
  {
   "cell_type": "code",
   "execution_count": 4,
   "id": "a53a2a0e",
   "metadata": {},
   "outputs": [
    {
     "name": "stdout",
     "output_type": "stream",
     "text": [
      "enter the number of job\n",
      "3\n",
      "enter the number of machines\n",
      "2\n",
      "enter the sequence of machines for Job 1 \t3 2\n",
      "enter the sequence of machines for Job 2 \t2 1\n",
      "enter the sequence of machines for Job 3 \t2 1\n",
      "[[3 2]\n",
      " [2 1]\n",
      " [2 1]]\n",
      "enter the processing time for Job 1 \t25 12\n",
      "enter the processing time for Job 2 \t32 25\n",
      "enter the processing time for Job 3 \t63 25\n",
      "[[25 12]\n",
      " [32 25]\n",
      " [63 25]]\n"
     ]
    }
   ],
   "source": [
    "taking_input()"
   ]
  },
  {
   "cell_type": "code",
   "execution_count": null,
   "id": "8c00fc77",
   "metadata": {},
   "outputs": [],
   "source": []
  }
 ],
 "metadata": {
  "kernelspec": {
   "display_name": "Python 3",
   "language": "python",
   "name": "python3"
  },
  "language_info": {
   "codemirror_mode": {
    "name": "ipython",
    "version": 3
   },
   "file_extension": ".py",
   "mimetype": "text/x-python",
   "name": "python",
   "nbconvert_exporter": "python",
   "pygments_lexer": "ipython3",
   "version": "3.8.8"
  }
 },
 "nbformat": 4,
 "nbformat_minor": 5
}
