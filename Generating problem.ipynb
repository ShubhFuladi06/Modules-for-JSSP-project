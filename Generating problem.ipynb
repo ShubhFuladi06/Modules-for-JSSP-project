{
 "cells": [
  {
   "cell_type": "markdown",
   "id": "617af866",
   "metadata": {},
   "source": [
    "### Generating random problem"
   ]
  },
  {
   "cell_type": "code",
   "execution_count": 1,
   "id": "f956cddb",
   "metadata": {
    "scrolled": false
   },
   "outputs": [
    {
     "name": "stderr",
     "output_type": "stream",
     "text": [
      "C:\\Users\\my\\anaconda3\\lib\\site-packages\\numpy\\_distributor_init.py:30: UserWarning: loaded more than 1 DLL from .libs:\n",
      "C:\\Users\\my\\anaconda3\\lib\\site-packages\\numpy\\.libs\\libopenblas.NOIJJG62EMASZI6NYURL6JBKM4EVBGM7.gfortran-win_amd64.dll\n",
      "C:\\Users\\my\\anaconda3\\lib\\site-packages\\numpy\\.libs\\libopenblas.PYQHXLVVQ7VESDPUVUADXEVJOBGHJPAY.gfortran-win_amd64.dll\n",
      "C:\\Users\\my\\anaconda3\\lib\\site-packages\\numpy\\.libs\\libopenblas.WCDJNK7YVMPZQ2ME2ZZHJJRJ3JIKNDB7.gfortran-win_amd64.dll\n",
      "  warnings.warn(\"loaded more than 1 DLL from .libs:\"\n"
     ]
    }
   ],
   "source": [
    "import numpy as np\n",
    "import pandas as pd\n",
    "import random"
   ]
  },
  {
   "cell_type": "code",
   "execution_count": 2,
   "id": "a3f804c6",
   "metadata": {},
   "outputs": [],
   "source": [
    "### bool_random = True -> randomly generate problem\n",
    "### bool_random = False -> select given problem"
   ]
  },
  {
   "cell_type": "code",
   "execution_count": 3,
   "id": "96146b5b",
   "metadata": {},
   "outputs": [],
   "source": [
    "class Problem:\n",
    "    def __init__(self, n, m, time_low, time_high, bool_random):\n",
    "        self.n = n\n",
    "        self.m = m\n",
    "        self.time_high = time_high\n",
    "        self.time_low = time_low\n",
    "        self.bool_generate_rondom_JSSP=bool_random\n",
    "        self.GenerateRandomProblem()         \n",
    "    def GenerateRandomProblem(self):\n",
    "        try:\n",
    "            np.random.seed(42)\n",
    "            random.seed(42)\n",
    "            if self.bool_generate_rondom_JSSP==True:\n",
    "                a = list(range(self.time_low, self.time_high))\n",
    "                p = []\n",
    "                for k in range(self.n):                \n",
    "                    p.append(random.sample(a, self.m))\n",
    "                self.p = np.array(p)\n",
    "\n",
    "                a = list(range(self.m))\n",
    "                r = []\n",
    "                for k in range(self.n):\n",
    "                    r.append(random.sample(a, self.m))\n",
    "                self.r = np.array(r)\n",
    "                ########### make sum_time_of_job in ascending order by changing processing time table########\n",
    "                sum_time_of_job = np.sum(self.p, axis=1)   ######## make a list of \"summation of all task time\" for every job \n",
    "\n",
    "                for i in range(self.n):                               \n",
    "                    for j in range(i + 1, self.n):\n",
    "                        if sum_time_of_job[i] > sum_time_of_job[j]:   #### if 1st sum_time_of_job greater than 2nd \n",
    "                            a = np.copy(self.p[j, :])                 #### copy 2nd row(job) in processing time table and assign to the a\n",
    "                            self.p[j, :] = self.p[i, :]               #### assign 1st row of processing time table to 2nd row\n",
    "                            self.p[i, :] = a                          #### orignal 2nd row of processing time table to 1st row\n",
    "                            sum_time_of_job[i], sum_time_of_job[j] = sum_time_of_job[j], sum_time_of_job[i] #### swap 1st and 2nd sum_time_of_job\n",
    "                ###For r\n",
    "                sum_time_of_mach = [[i, 0] for i in range(self.m)]    \n",
    "                for i in range(self.n):\n",
    "                    for j in range(self.m):\n",
    "                        sum_time_of_mach[self.r[i, j]][1] += self.p[i, j]    ### make a (m x 2)list for sum of processing time of machine for each machine\n",
    "\n",
    "                for i in range(self.m):\n",
    "                    for j in range(i + 1, self.m):\n",
    "                        if sum_time_of_mach[i][1] > sum_time_of_mach[j][1]:\n",
    "                            sum_time_of_mach[i], sum_time_of_mach[j] = sum_time_of_mach[j], sum_time_of_mach[i] ###make sum_time_of_mach in Ascending order according to processing time\n",
    "\n",
    "                nr = np.zeros((self.n, self.m), dtype=int) - 1\n",
    "                for i in range(self.m):\n",
    "                    nr[self.r == i] = sum_time_of_mach[i][0]\n",
    "\n",
    "                sum_time_of_mach = [[i, 0] for i in range(self.m)]\n",
    "                for i in range(self.n):\n",
    "                    for j in range(self.m):\n",
    "                        sum_time_of_mach[self.r[i, j]][1] += self.p[i, j]\n",
    "\n",
    "                self.r = nr+1\n",
    "                print(self.r,\"\\n\\n\",self.p)\n",
    "            \n",
    "            else:                        \n",
    "                if (self.n==15 and self.m==15):                                \n",
    "                    ##########################la36(15by15)\n",
    "                    self.r=np.array([[4,3,6,14,10,2,9,1,0,7,8,5,12,11,13],[11,4,1,7,8,14,12,0,3,6,9,5,10,13,2],\n",
    "                                     [9,5,2,7,4,12,0,13,6,10,3,11,8,1,14],[5,0,9,6,4,13,7,8,11,12,2,1,10,14,3],\n",
    "                                     [10,4,8,2,0,11,14,9,6,7,1,13,3,5,12],[0,2,4,13,3,12,14,6,1,9,11,8,7,10,5],\n",
    "                                     [8,4,12,0,7,11,6,10,3,13,1,5,14,2,9],[4,13,11,3,7,9,1,2,12,8,14,0,10,6,5],\n",
    "                                     [5,1,6,8,13,10,2,3,7,11,14,4,0,9,12],[11,5,4,8,7,0,9,6,14,3,10,13,2,12,1],\n",
    "                                     [7,3,0,4,12,14,10,1,9,13,5,8,2,11,6],[1,2,3,5,4,6,9,7,10,8,11,13,12,0,14],\n",
    "                                     [3,7,13,5,11,12,2,4,10,1,9,6,14,8,0],[9,7,5,14,10,4,11,2,1,3,13,6,0,12,8],\n",
    "                                     [9,10,11,14,8,0,7,6,12,1,2,13,4,3,5]])\n",
    "                    self.p=np.array([[21,55,71,98,12,34,16,21,53,26,52,95,31,42,39],[54,83,77,64,34,79,43,55,77,19,37,79,92,62,66],\n",
    "                                     [83,77,87,38,60,98,93,17,41,44,69,49,24,87,25],[77,96,28,7,95,35,35,76,9,95,43,75,61,10,79],\n",
    "                                     [87,28,50,59,46,45,9,43,52,27,91,41,16,59,39],[20,71,78,66,14,8,42,28,54,33,89,26,37,33,43],\n",
    "                                     [69,96,17,69,45,31,78,20,27,87,74,84,76,94,81],[58,90,76,81,23,28,18,32,86,99,97,24,45,72,25],\n",
    "                                     [27,46,67,27,19,80,17,48,62,12,28,98,42,48,50],[37,80,75,55,50,94,14,41,72,50,61,79,98,18,63],\n",
    "                                     [65,96,47,75,69,58,33,71,22,32,57,79,14,31,60],[34,47,58,51,62,44,8,17,97,29,15,66,40,44,38],\n",
    "                                     [50,57,61,20,85,90,58,63,84,39,87,21,56,32,57],[84,45,15,41,18,82,29,70,67,30,50,23,20,21,38],\n",
    "                                     [37,81,61,57,57,52,74,62,30,52,38,68,54,54,16]])\n",
    "                    self.r = self.r+1\n",
    "                    print(\"self.r=\",self.r ,\"\\n\\n\", \"self.p=\", self.p)\n",
    "                \n",
    "                elif (self.n==15 and self.m==10):\n",
    "                \n",
    "                    #########################la24(10by15)\n",
    "                    self.r=np.array([[7,9,0,6,4,8,2,5,1,3],[6,8,3,0,1,4,5,9,2,7],[1,3,5,4,0,2,6,8,9,7],\n",
    "                                     [1,7,4,6,5,0,8,3,9,2],[7,2,8,5,1,6,3,0,9,4],[8,0,4,5,9,1,7,6,3,2],\n",
    "                                     [6,2,8,1,9,4,7,0,5,3],[8,7,5,3,2,4,9,1,0,6],[4,0,9,5,7,3,2,8,6,1],\n",
    "                                     [9,0,3,8,1,6,2,5,4,7],[7,3,4,5,2,0,6,9,1,8],[0,3,2,7,8,5,9,1,6,4],\n",
    "                                     [9,1,3,6,2,8,7,0,5,4],[4,2,5,6,8,7,3,1,0,9],[2,5,9,8,0,6,3,7,1,4]])\n",
    "                    self.p=np.array([[8,75,72,74,30,43,38,98,26,19],[19,73,43,23,85,39,13,26,67,9],[50,93,80,7,55,61,57,72,42,46],\n",
    "                                     [68,43,99,60,68,91,11,96,11,2],[84,34,40,7,70,74,12,43,69,30],[60,49,59,72,63,69,99,45,27,9],\n",
    "                                     [71,91,65,90,98,8,50,75,37,17],[62,90,98,31,91,38,72,9,72,49],[35,39,74,25,47,52,63,21,35,80],\n",
    "                                     [58,5,50,52,88,20,68,24,53,57],[99,91,33,19,18,38,24,35,49,9],[68,60,77,10,60,15,72,18,90,18],\n",
    "                                     [79,60,56,91,40,86,72,80,89,51],[10,92,23,46,40,72,6,23,95,34],[24,29,49,55,47,77,77,8,28,48]])\n",
    "                    self.r = self.r+1\n",
    "                    print(\"self.r=\",self.r ,\"\\n\\n\", \"self.p=\", self.p)\n",
    "                    \n",
    "                elif (self.n==20 and self.m==5):\n",
    "                ##########################ft20(5by20)\n",
    "                    self.r=np.array([[0,1,2,3,4],[0,1,3,2,4],[1,0,2,4,3],[1,0,4,2,3],[2,1,0,3,4],[2,1,4,0,3],\n",
    "                                     [1,0,2,3,4],[2,1,0,3,4],[0,3,2,1,4],[1,2,0,3,4],[1,3,0,4,2],[2,0,1,3,4],\n",
    "                                     [0,2,1,3,4],[2,0,1,3,4],[0,1,4,2,3],[1,0,3,4,2],[0,2,1,3,4],[0,1,4,2,3],\n",
    "                                     [1,2,0,3,4],[0,1,2,3,4]])\n",
    "                    self.p=np.array([[29,9,49,62,44],[43,75,69,46,72],[91,39,90,12,45],[81,71,9,85,22],\n",
    "                                     [14,22,26,21,72],[84,52,48,47,6],[46,61,32,32,30],[31,46,32,19,36],\n",
    "                                     [76,76,85,40,26],[85,61,64,47,90],[78,36,11,56,21],[90,11,28,46,30],\n",
    "                                     [85,74,10,89,33],[95,99,52,98,43],[6,61,69,49,53],[2,95,72,65,25],\n",
    "                                     [37,13,21,89,55],[86,74,88,48,79],[69,51,11,89,74],[13,7,76,52,45]])\n",
    "                    self.r = self.r+1\n",
    "                    print(\"self.r=\",self.r ,\"\\n\\n\", \"self.p=\", self.p)\n",
    "            \n",
    "                elif (self.n==10 and self.m==10):\n",
    "                     ###################ft10(10by10)\n",
    "                    self.r=np.array([[0,1,2,3,4,5,6,7,8,9],[0,2,4,9,3,1,6,5,7,8], \n",
    "                                     [1,0,3,2,8,5,7,6,9,4],[1,2,0,4,6,8,7,3,9,5],\n",
    "                                     [2,0,1,5,3,4,8,7,9,6],[2,1,5,3,8,9,0,6,4,7],\n",
    "                                     [1,0,3,2,6,5,9,8,7,4],[2,0,1,5,4,6,8,9,7,3],\n",
    "                                     [0,1,3,5,2,9,6,7,4,8],[1,0,2,6,8,9,5,3,4,7]])\n",
    "                    self.p=np.array([[29,78,9,36,49,11,62,56,44,21],[43,90,75,11,69,28,46,46,72,30], ####98\n",
    "                                     [91,85,39,74,90,10,12,89,45,33],[81,95,71,99,9,52,85,98,22,43],\n",
    "                                     [14,6,22,61,26,69,21,49,72,53],[84,2,52,95,48,72,47,65,6,25],\n",
    "                                     [46,37,61,13,32,21,32,89,30,55],[31,86,46,74,32,88,19,48,36,79],\n",
    "                                     [76,69,76,51,85,11,40,89,26,74],[85,13,61,7,64,76,47,52,90,45]])\n",
    "                    self.r = self.r+1\n",
    "                    print(\"self.r=\",self.r ,\"\\n\\n\", \"self.p=\", self.p)\n",
    "                else:\n",
    "                    print(\"enter your choice among 15x15 , 15x10 , 20x5 , 10x10\")\n",
    "        except IndexError:\n",
    "            pass"
   ]
  },
  {
   "cell_type": "code",
   "execution_count": 4,
   "id": "21fc8ee6",
   "metadata": {},
   "outputs": [
    {
     "name": "stdout",
     "output_type": "stream",
     "text": [
      "enter your choice among 15x15 , 15x10 , 20x5 , 10x10\n"
     ]
    }
   ],
   "source": [
    "## machine,job,time_low ,time_high, boolean_random\n",
    "prob = Problem(10,5,10,100,False)"
   ]
  },
  {
   "cell_type": "code",
   "execution_count": 5,
   "id": "1bc9338e",
   "metadata": {},
   "outputs": [
    {
     "name": "stdout",
     "output_type": "stream",
     "text": [
      "self.r= [[ 8 10  1  7  5  9  3  6  2  4]\n",
      " [ 7  9  4  1  2  5  6 10  3  8]\n",
      " [ 2  4  6  5  1  3  7  9 10  8]\n",
      " [ 2  8  5  7  6  1  9  4 10  3]\n",
      " [ 8  3  9  6  2  7  4  1 10  5]\n",
      " [ 9  1  5  6 10  2  8  7  4  3]\n",
      " [ 7  3  9  2 10  5  8  1  6  4]\n",
      " [ 9  8  6  4  3  5 10  2  1  7]\n",
      " [ 5  1 10  6  8  4  3  9  7  2]\n",
      " [10  1  4  9  2  7  3  6  5  8]\n",
      " [ 8  4  5  6  3  1  7 10  2  9]\n",
      " [ 1  4  3  8  9  6 10  2  7  5]\n",
      " [10  2  4  7  3  9  8  1  6  5]\n",
      " [ 5  3  6  7  9  8  4  2  1 10]\n",
      " [ 3  6 10  9  1  7  4  8  2  5]] \n",
      "\n",
      " self.p= [[ 8 75 72 74 30 43 38 98 26 19]\n",
      " [19 73 43 23 85 39 13 26 67  9]\n",
      " [50 93 80  7 55 61 57 72 42 46]\n",
      " [68 43 99 60 68 91 11 96 11  2]\n",
      " [84 34 40  7 70 74 12 43 69 30]\n",
      " [60 49 59 72 63 69 99 45 27  9]\n",
      " [71 91 65 90 98  8 50 75 37 17]\n",
      " [62 90 98 31 91 38 72  9 72 49]\n",
      " [35 39 74 25 47 52 63 21 35 80]\n",
      " [58  5 50 52 88 20 68 24 53 57]\n",
      " [99 91 33 19 18 38 24 35 49  9]\n",
      " [68 60 77 10 60 15 72 18 90 18]\n",
      " [79 60 56 91 40 86 72 80 89 51]\n",
      " [10 92 23 46 40 72  6 23 95 34]\n",
      " [24 29 49 55 47 77 77  8 28 48]]\n"
     ]
    }
   ],
   "source": [
    "## machine,job,time_low ,time_high, boolean_random\n",
    "prob = Problem(15,10,10,100,False)"
   ]
  },
  {
   "cell_type": "code",
   "execution_count": 6,
   "id": "648c3872",
   "metadata": {},
   "outputs": [
    {
     "name": "stdout",
     "output_type": "stream",
     "text": [
      "[[ 1  9  6  4  5  3  8  2 10  7]\n",
      " [10  6  1  7  9  8  3  5  2  4]\n",
      " [ 6  5  7  3  1  4  9 10  8  2]\n",
      " [ 1  7  8  9  4  3  6 10  5  2]\n",
      " [ 9  1  7  2 10  6  5  8  4  3]\n",
      " [ 8 10  4  3  2  9  7  1  5  6]\n",
      " [ 9  5 10  3  7  1  4  2  8  6]\n",
      " [ 8  6  9  5  4  2 10  7  3  1]] \n",
      "\n",
      " [[30 99 64 53 45 29 37 23 21 58]\n",
      " [91 24 13 45 41 38 27 23 96 79]\n",
      " [22 55 54 87 43 15 68 78 25 58]\n",
      " [21 85 64 14 13 37 39 74 87 81]\n",
      " [20 80 47 90 89 56 83 34 18 15]\n",
      " [94 39 47 20 22 58 45 68 91 56]\n",
      " [35 93 99 79 63 38 67 85 45 10]\n",
      " [30 57 55 36 95 44 99 97 92 19]]\n"
     ]
    }
   ],
   "source": [
    "## machine,job,time_low ,time_high, boolean_random\n",
    "prob = Problem(8,10,10,100,True)"
   ]
  },
  {
   "cell_type": "code",
   "execution_count": null,
   "id": "158edf38",
   "metadata": {},
   "outputs": [],
   "source": []
  }
 ],
 "metadata": {
  "kernelspec": {
   "display_name": "Python 3",
   "language": "python",
   "name": "python3"
  },
  "language_info": {
   "codemirror_mode": {
    "name": "ipython",
    "version": 3
   },
   "file_extension": ".py",
   "mimetype": "text/x-python",
   "name": "python",
   "nbconvert_exporter": "python",
   "pygments_lexer": "ipython3",
   "version": "3.8.8"
  }
 },
 "nbformat": 4,
 "nbformat_minor": 5
}
