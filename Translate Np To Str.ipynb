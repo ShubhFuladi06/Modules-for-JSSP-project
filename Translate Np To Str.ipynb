{
 "cells": [
  {
   "cell_type": "code",
   "execution_count": 1,
   "id": "4f94f882",
   "metadata": {},
   "outputs": [
    {
     "name": "stderr",
     "output_type": "stream",
     "text": [
      "C:\\Users\\my\\anaconda3\\lib\\site-packages\\numpy\\_distributor_init.py:30: UserWarning: loaded more than 1 DLL from .libs:\n",
      "C:\\Users\\my\\anaconda3\\lib\\site-packages\\numpy\\.libs\\libopenblas.NOIJJG62EMASZI6NYURL6JBKM4EVBGM7.gfortran-win_amd64.dll\n",
      "C:\\Users\\my\\anaconda3\\lib\\site-packages\\numpy\\.libs\\libopenblas.PYQHXLVVQ7VESDPUVUADXEVJOBGHJPAY.gfortran-win_amd64.dll\n",
      "C:\\Users\\my\\anaconda3\\lib\\site-packages\\numpy\\.libs\\libopenblas.WCDJNK7YVMPZQ2ME2ZZHJJRJ3JIKNDB7.gfortran-win_amd64.dll\n",
      "  warnings.warn(\"loaded more than 1 DLL from .libs:\"\n"
     ]
    }
   ],
   "source": [
    "import matplotlib.pyplot as plt\n",
    "import numpy as np\n",
    "import pandas as pd"
   ]
  },
  {
   "cell_type": "markdown",
   "id": "2f02812e",
   "metadata": {},
   "source": [
    "## function to translate NP array to str"
   ]
  },
  {
   "cell_type": "code",
   "execution_count": 2,
   "id": "1f961f7b",
   "metadata": {},
   "outputs": [],
   "source": [
    "def TranslateNpToStr(m):\n",
    "    a = m.reshape((-1))\n",
    "    a = list(a)\n",
    "    s = ''.join(['{},'.format(round(o, 2)) for o in a]) + '\\n'\n",
    "    return s"
   ]
  },
  {
   "cell_type": "markdown",
   "id": "268bbb8e",
   "metadata": {},
   "source": [
    "## 10jobs 10machines machine sequence and processing time"
   ]
  },
  {
   "cell_type": "code",
   "execution_count": 3,
   "id": "03d1a65b",
   "metadata": {},
   "outputs": [],
   "source": [
    "r=np.array([[0,1,2,3,4,5,6,7,8,9],[0,2,4,9,3,1,6,5,7,8], \n",
    "            [1,0,3,2,8,5,7,6,9,4],[1,2,0,4,6,8,7,3,9,5],\n",
    "            [2,0,1,5,3,4,8,7,9,6],[2,1,5,3,8,9,0,6,4,7],\n",
    "            [1,0,3,2,6,5,9,8,7,4],[2,0,1,5,4,6,8,9,7,3],\n",
    "            [0,1,3,5,2,9,6,7,4,8],[1,0,2,6,8,9,5,3,4,7]])\n",
    "p=np.array([[29, 78, 9, 36, 49, 11, 62, 56, 44, 21],[43, 90, 75, 11, 69, 28, 46, 46, 72, 30],\n",
    "            [91, 85, 39, 74, 90, 10, 12, 89, 45, 33],[81, 95, 71, 99, 9, 52, 85, 98, 22, 43],\n",
    "            [14, 6, 22, 61, 26, 69, 21, 49, 72, 53],[84, 2, 52, 95, 48, 72, 47, 65, 6, 25],\n",
    "            [46, 37, 61, 13, 32, 21, 32, 89, 30, 55],[31, 86, 46, 74, 32, 88, 19, 48, 36, 79],\n",
    "            [76, 69, 76, 51, 85, 11, 40, 89, 26, 74],[85, 13, 61, 7, 64, 76, 47, 52, 90, 45]])"
   ]
  },
  {
   "cell_type": "code",
   "execution_count": 4,
   "id": "28d5b493",
   "metadata": {},
   "outputs": [
    {
     "name": "stdout",
     "output_type": "stream",
     "text": [
      "<class 'numpy.ndarray'>\n"
     ]
    },
    {
     "data": {
      "text/plain": [
       "array([0, 1, 2, 3, 4, 5, 6, 7, 8, 9, 0, 2, 4, 9, 3, 1, 6, 5, 7, 8, 1, 0,\n",
       "       3, 2, 8, 5, 7, 6, 9, 4, 1, 2, 0, 4, 6, 8, 7, 3, 9, 5, 2, 0, 1, 5,\n",
       "       3, 4, 8, 7, 9, 6, 2, 1, 5, 3, 8, 9, 0, 6, 4, 7, 1, 0, 3, 2, 6, 5,\n",
       "       9, 8, 7, 4, 2, 0, 1, 5, 4, 6, 8, 9, 7, 3, 0, 1, 3, 5, 2, 9, 6, 7,\n",
       "       4, 8, 1, 0, 2, 6, 8, 9, 5, 3, 4, 7])"
      ]
     },
     "execution_count": 4,
     "metadata": {},
     "output_type": "execute_result"
    }
   ],
   "source": [
    "machine_sequence = r.reshape((-1))\n",
    "print(type(machine_sequence))\n",
    "machine_sequence"
   ]
  },
  {
   "cell_type": "code",
   "execution_count": 5,
   "id": "45df0ca5",
   "metadata": {},
   "outputs": [
    {
     "name": "stdout",
     "output_type": "stream",
     "text": [
      "<class 'numpy.ndarray'>\n"
     ]
    },
    {
     "data": {
      "text/plain": [
       "array([29, 78,  9, 36, 49, 11, 62, 56, 44, 21, 43, 90, 75, 11, 69, 28, 46,\n",
       "       46, 72, 30, 91, 85, 39, 74, 90, 10, 12, 89, 45, 33, 81, 95, 71, 99,\n",
       "        9, 52, 85, 98, 22, 43, 14,  6, 22, 61, 26, 69, 21, 49, 72, 53, 84,\n",
       "        2, 52, 95, 48, 72, 47, 65,  6, 25, 46, 37, 61, 13, 32, 21, 32, 89,\n",
       "       30, 55, 31, 86, 46, 74, 32, 88, 19, 48, 36, 79, 76, 69, 76, 51, 85,\n",
       "       11, 40, 89, 26, 74, 85, 13, 61,  7, 64, 76, 47, 52, 90, 45])"
      ]
     },
     "execution_count": 5,
     "metadata": {},
     "output_type": "execute_result"
    }
   ],
   "source": [
    "processing_time = p.reshape((-1))\n",
    "print(type(processing_time))\n",
    "processing_time"
   ]
  },
  {
   "cell_type": "markdown",
   "id": "b48990b5",
   "metadata": {},
   "source": [
    "## convert to list"
   ]
  },
  {
   "cell_type": "code",
   "execution_count": 6,
   "id": "7970bc11",
   "metadata": {
    "scrolled": true
   },
   "outputs": [],
   "source": [
    "machine_sequence = list(machine_sequence)\n",
    "processing_time = list(processing_time)"
   ]
  },
  {
   "cell_type": "markdown",
   "id": "170b9c35",
   "metadata": {},
   "source": [
    "## list to str  ..."
   ]
  },
  {
   "cell_type": "code",
   "execution_count": 7,
   "id": "7233f17b",
   "metadata": {},
   "outputs": [
    {
     "name": "stdout",
     "output_type": "stream",
     "text": [
      "<class 'str'>\n"
     ]
    },
    {
     "data": {
      "text/plain": [
       "'0,1,2,3,4,5,6,7,8,9,0,2,4,9,3,1,6,5,7,8,1,0,3,2,8,5,7,6,9,4,1,2,0,4,6,8,7,3,9,5,2,0,1,5,3,4,8,7,9,6,2,1,5,3,8,9,0,6,4,7,1,0,3,2,6,5,9,8,7,4,2,0,1,5,4,6,8,9,7,3,0,1,3,5,2,9,6,7,4,8,1,0,2,6,8,9,5,3,4,7,\\n'"
      ]
     },
     "execution_count": 7,
     "metadata": {},
     "output_type": "execute_result"
    }
   ],
   "source": [
    "str_machine_sequence = ''.join(['{},'.format(round(o, 2)) for o in machine_sequence]) + '\\n'\n",
    "print(type(str_machine_sequence))\n",
    "str_machine_sequence"
   ]
  },
  {
   "cell_type": "code",
   "execution_count": 8,
   "id": "4129ef37",
   "metadata": {},
   "outputs": [
    {
     "data": {
      "text/plain": [
       "201"
      ]
     },
     "execution_count": 8,
     "metadata": {},
     "output_type": "execute_result"
    }
   ],
   "source": [
    "len(str_machine_sequence)"
   ]
  },
  {
   "cell_type": "code",
   "execution_count": 9,
   "id": "e3a0b949",
   "metadata": {},
   "outputs": [
    {
     "name": "stdout",
     "output_type": "stream",
     "text": [
      "<class 'str'>\n"
     ]
    },
    {
     "data": {
      "text/plain": [
       "'29,78,9,36,49,11,62,56,44,21,43,90,75,11,69,28,46,46,72,30,91,85,39,74,90,10,12,89,45,33,81,95,71,99,9,52,85,98,22,43,14,6,22,61,26,69,21,49,72,53,84,2,52,95,48,72,47,65,6,25,46,37,61,13,32,21,32,89,30,55,31,86,46,74,32,88,19,48,36,79,76,69,76,51,85,11,40,89,26,74,85,13,61,7,64,76,47,52,90,45,\\n'"
      ]
     },
     "execution_count": 9,
     "metadata": {},
     "output_type": "execute_result"
    }
   ],
   "source": [
    "str_processing_time = ''.join(['{},'.format(round(o, 2)) for o in processing_time]) + '\\n'\n",
    "print(type(str_processing_time))\n",
    "str_processing_time"
   ]
  },
  {
   "cell_type": "code",
   "execution_count": 10,
   "id": "18528f6b",
   "metadata": {},
   "outputs": [
    {
     "data": {
      "text/plain": [
       "295"
      ]
     },
     "execution_count": 10,
     "metadata": {},
     "output_type": "execute_result"
    }
   ],
   "source": [
    "len(str_processing_time)"
   ]
  },
  {
   "cell_type": "code",
   "execution_count": 11,
   "id": "58945a90",
   "metadata": {},
   "outputs": [
    {
     "name": "stdout",
     "output_type": "stream",
     "text": [
      "<class 'str'>\n"
     ]
    },
    {
     "data": {
      "text/plain": [
       "'2'"
      ]
     },
     "execution_count": 11,
     "metadata": {},
     "output_type": "execute_result"
    }
   ],
   "source": [
    "print(type(str_processing_time[0]))\n",
    "str_processing_time[0]"
   ]
  },
  {
   "cell_type": "code",
   "execution_count": 12,
   "id": "b57991cc",
   "metadata": {},
   "outputs": [
    {
     "name": "stdout",
     "output_type": "stream",
     "text": [
      "<class 'str'>\n"
     ]
    },
    {
     "data": {
      "text/plain": [
       "'9'"
      ]
     },
     "execution_count": 12,
     "metadata": {},
     "output_type": "execute_result"
    }
   ],
   "source": [
    "print(type(str_processing_time[1]))\n",
    "str_processing_time[1]"
   ]
  },
  {
   "cell_type": "code",
   "execution_count": 13,
   "id": "26eba06d",
   "metadata": {},
   "outputs": [
    {
     "name": "stdout",
     "output_type": "stream",
     "text": [
      "<class 'str'>\n"
     ]
    },
    {
     "data": {
      "text/plain": [
       "','"
      ]
     },
     "execution_count": 13,
     "metadata": {},
     "output_type": "execute_result"
    }
   ],
   "source": [
    "print(type(str_processing_time[2]))\n",
    "str_processing_time[2]"
   ]
  },
  {
   "cell_type": "code",
   "execution_count": 14,
   "id": "d9dd5784",
   "metadata": {},
   "outputs": [
    {
     "name": "stdout",
     "output_type": "stream",
     "text": [
      "<class 'str'>\n"
     ]
    },
    {
     "data": {
      "text/plain": [
       "'7'"
      ]
     },
     "execution_count": 14,
     "metadata": {},
     "output_type": "execute_result"
    }
   ],
   "source": [
    "print(type(str_processing_time[3]))\n",
    "str_processing_time[3]"
   ]
  },
  {
   "cell_type": "code",
   "execution_count": 15,
   "id": "6d3fa74d",
   "metadata": {},
   "outputs": [
    {
     "name": "stdout",
     "output_type": "stream",
     "text": [
      "<class 'str'>\n"
     ]
    },
    {
     "data": {
      "text/plain": [
       "'\\n'"
      ]
     },
     "execution_count": 15,
     "metadata": {},
     "output_type": "execute_result"
    }
   ],
   "source": [
    "print(type(str_processing_time[294]))\n",
    "str_processing_time[294]"
   ]
  },
  {
   "cell_type": "code",
   "execution_count": null,
   "id": "426fc844",
   "metadata": {},
   "outputs": [],
   "source": []
  },
  {
   "cell_type": "code",
   "execution_count": null,
   "id": "7c5f0c38",
   "metadata": {},
   "outputs": [],
   "source": []
  }
 ],
 "metadata": {
  "kernelspec": {
   "display_name": "Python 3",
   "language": "python",
   "name": "python3"
  },
  "language_info": {
   "codemirror_mode": {
    "name": "ipython",
    "version": 3
   },
   "file_extension": ".py",
   "mimetype": "text/x-python",
   "name": "python",
   "nbconvert_exporter": "python",
   "pygments_lexer": "ipython3",
   "version": "3.8.8"
  }
 },
 "nbformat": 4,
 "nbformat_minor": 5
}
